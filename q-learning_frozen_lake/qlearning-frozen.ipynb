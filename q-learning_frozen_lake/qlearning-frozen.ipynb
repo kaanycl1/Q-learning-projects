{
 "cells": [
  {
   "cell_type": "code",
   "execution_count": 1,
   "id": "8b6e9ba0-2a6c-40ef-8e1b-a1d924c490a4",
   "metadata": {},
   "outputs": [],
   "source": [
    "import numpy as np\n",
    "import gym\n",
    "import time\n",
    "import random\n",
    "from IPython.display import clear_output"
   ]
  },
  {
   "cell_type": "code",
   "execution_count": 2,
   "id": "9ca25849-30b8-4c64-938a-b4c14c0257cf",
   "metadata": {},
   "outputs": [],
   "source": [
    "env=gym.make('FrozenLake-v1')"
   ]
  },
  {
   "cell_type": "code",
   "execution_count": 3,
   "id": "1be162cf-ebfe-4edd-bb35-97ae972a2d69",
   "metadata": {},
   "outputs": [
    {
     "data": {
      "text/plain": [
       "array([[0., 0., 0., 0.],\n",
       "       [0., 0., 0., 0.],\n",
       "       [0., 0., 0., 0.],\n",
       "       [0., 0., 0., 0.],\n",
       "       [0., 0., 0., 0.],\n",
       "       [0., 0., 0., 0.],\n",
       "       [0., 0., 0., 0.],\n",
       "       [0., 0., 0., 0.],\n",
       "       [0., 0., 0., 0.],\n",
       "       [0., 0., 0., 0.],\n",
       "       [0., 0., 0., 0.],\n",
       "       [0., 0., 0., 0.],\n",
       "       [0., 0., 0., 0.],\n",
       "       [0., 0., 0., 0.],\n",
       "       [0., 0., 0., 0.],\n",
       "       [0., 0., 0., 0.]])"
      ]
     },
     "execution_count": 3,
     "metadata": {},
     "output_type": "execute_result"
    }
   ],
   "source": [
    "action_space_size=env.action_space.n\n",
    "state_space_size=env.observation_space.n\n",
    "\n",
    "q_table=np.zeros((state_space_size,action_space_size))\n",
    "q_table"
   ]
  },
  {
   "cell_type": "markdown",
   "id": "5aab1678-194b-46c4-ab47-40bca652a78e",
   "metadata": {},
   "source": [
    "Parameters"
   ]
  },
  {
   "cell_type": "code",
   "execution_count": 4,
   "id": "990c6099-4282-4abe-9ea6-2f38b2975010",
   "metadata": {},
   "outputs": [],
   "source": [
    "num_episodes=10000\n",
    "max_steps=100\n",
    "\n",
    "learning_rate=0.1\n",
    "discount_rate=0.99\n",
    "\n",
    "exploration_rate=1\n",
    "max_exploration=1\n",
    "min_exploration=0.01\n",
    "exploration_decay=0.001  # test this parameter and compare results"
   ]
  },
  {
   "cell_type": "code",
   "execution_count": null,
   "id": "5114f031-f0f3-4af9-9d89-5eb6194d45b7",
   "metadata": {},
   "outputs": [],
   "source": []
  },
  {
   "cell_type": "code",
   "execution_count": 5,
   "id": "01891902-ed79-4eca-be96-299390bdf01d",
   "metadata": {},
   "outputs": [
    {
     "name": "stderr",
     "output_type": "stream",
     "text": [
      "C:\\Users\\kaan\\anaconda3\\envs\\q-learning\\lib\\site-packages\\gym\\utils\\passive_env_checker.py:233: DeprecationWarning: `np.bool8` is a deprecated alias for `np.bool_`.  (Deprecated NumPy 1.24)\n",
      "  if not isinstance(terminated, (bool, np.bool8)):\n"
     ]
    }
   ],
   "source": [
    "rewards=[]\n",
    "\n",
    "for episode in range(num_episodes):\n",
    "    state=env.reset()[0]\n",
    "    done=False\n",
    "    rewards_current=0\n",
    "    for step in range(max_steps):\n",
    "        exp_threshold=random.uniform(0,1)\n",
    "        if exp_threshold > exploration_rate:\n",
    "            action=np.argmax(q_table[state,:])\n",
    "        else:\n",
    "            action=env.action_space.sample()\n",
    "\n",
    "        new_state,reward,done,truncated,info=env.step(action)\n",
    "\n",
    "        #update q-table\n",
    "        q_table[state,action]=(1-learning_rate)*q_table[state,action] +\\\n",
    "        learning_rate * (reward + discount_rate*np.max(q_table[new_state,:])) \n",
    "\n",
    "        state=new_state\n",
    "        rewards_current+=reward\n",
    "\n",
    "        if done:\n",
    "            break\n",
    "    exploration_rate=exploration_rate - exploration_rate*exploration_decay\n",
    "    rewards.append(rewards_current)  "
   ]
  },
  {
   "cell_type": "code",
   "execution_count": 6,
   "id": "488a2440-8de2-49d6-91c1-f072cae19210",
   "metadata": {},
   "outputs": [
    {
     "name": "stdout",
     "output_type": "stream",
     "text": [
      "*************results*************\n",
      "\n",
      "1000 :  0.046000000000000034\n",
      "2000 :  0.20000000000000015\n",
      "3000 :  0.4100000000000003\n",
      "4000 :  0.5940000000000004\n",
      "5000 :  0.6830000000000005\n",
      "6000 :  0.7210000000000005\n",
      "7000 :  0.7200000000000005\n",
      "8000 :  0.7400000000000005\n",
      "9000 :  0.7340000000000005\n",
      "10000 :  0.7410000000000005\n",
      "\n",
      "[[0.59557832 0.47034692 0.47020976 0.47130197]\n",
      " [0.36059332 0.30538498 0.33102673 0.51744728]\n",
      " [0.41804179 0.41607337 0.41582565 0.47947779]\n",
      " [0.25668466 0.23652283 0.25330965 0.47104342]\n",
      " [0.61851793 0.43951005 0.33613513 0.36234665]\n",
      " [0.         0.         0.         0.        ]\n",
      " [0.26955487 0.1720474  0.17691801 0.1613953 ]\n",
      " [0.         0.         0.         0.        ]\n",
      " [0.32413929 0.43232169 0.37638358 0.67541907]\n",
      " [0.47534548 0.75269973 0.52920338 0.43580492]\n",
      " [0.71889081 0.39650518 0.34171977 0.26016616]\n",
      " [0.         0.         0.         0.        ]\n",
      " [0.         0.         0.         0.        ]\n",
      " [0.5101649  0.6112296  0.80708625 0.55936969]\n",
      " [0.68450955 0.90589746 0.72448777 0.72603558]\n",
      " [0.         0.         0.         0.        ]]\n"
     ]
    }
   ],
   "source": [
    "rewards_per_thousand=np.split(np.array(rewards),num_episodes/1000)\n",
    "count=1000\n",
    "print(\"*************results*************\\n\")\n",
    "for r in rewards_per_thousand:\n",
    "    print(count,\": \",str(sum(r/1000)))\n",
    "    count+=1000\n",
    "print()\n",
    "print(q_table)\n"
   ]
  },
  {
   "cell_type": "code",
   "execution_count": null,
   "id": "2977a387-a5bf-4127-9c6f-1b5bf054b8eb",
   "metadata": {},
   "outputs": [],
   "source": []
  }
 ],
 "metadata": {
  "kernelspec": {
   "display_name": "Python 3 (ipykernel)",
   "language": "python",
   "name": "python3"
  },
  "language_info": {
   "codemirror_mode": {
    "name": "ipython",
    "version": 3
   },
   "file_extension": ".py",
   "mimetype": "text/x-python",
   "name": "python",
   "nbconvert_exporter": "python",
   "pygments_lexer": "ipython3",
   "version": "3.10.14"
  }
 },
 "nbformat": 4,
 "nbformat_minor": 5
}
